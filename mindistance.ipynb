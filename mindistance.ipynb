{
 "cells": [
  {
   "cell_type": "code",
   "execution_count": 1,
   "metadata": {},
   "outputs": [],
   "source": [
    "import pandas as pd\n",
    "import pandas as pd\n",
    "from geopy.geocoders import Nominatim\n",
    "from geopy.distance import geodesic"
   ]
  },
  {
   "cell_type": "code",
   "execution_count": 4,
   "metadata": {},
   "outputs": [],
   "source": [
    "data=pd.read_csv('detailedlocdata.csv')"
   ]
  },
  {
   "cell_type": "code",
   "execution_count": 5,
   "metadata": {},
   "outputs": [],
   "source": [
    "def dist(myloc):\n",
    "    dataframe=data['0']\n",
    "    loc = Nominatim(user_agent=\"GetLoc\")\n",
    "    getLoc = loc.geocode(myloc)\n",
    "    mylocaxis=(getLoc.latitude,getLoc.longitude)\n",
    "    #print(getLoc.address)\n",
    "    mylocaxis=(getLoc.latitude,getLoc.longitude)\n",
    "    dist=[]\n",
    "    for i in range(len(data['0'])):\n",
    "        nearestlocation,nearlocationaxis=data['0'][i],(data.latitude[i],data.longitude[i])\n",
    "        dist.append([nearestlocation,geodesic(mylocaxis,nearlocationaxis).km])\n",
    "    dist.sort(key = lambda x: x[1])\n",
    "    return dist[:3]\n",
    "    "
   ]
  },
  {
   "cell_type": "code",
   "execution_count": null,
   "metadata": {},
   "outputs": [],
   "source": []
  }
 ],
 "metadata": {
  "kernelspec": {
   "display_name": "Python 3 (ipykernel)",
   "language": "python",
   "name": "python3"
  },
  "language_info": {
   "codemirror_mode": {
    "name": "ipython",
    "version": 3
   },
   "file_extension": ".py",
   "mimetype": "text/x-python",
   "name": "python",
   "nbconvert_exporter": "python",
   "pygments_lexer": "ipython3",
   "version": "3.9.7"
  }
 },
 "nbformat": 4,
 "nbformat_minor": 4
}
