{
 "cells": [
  {
   "cell_type": "code",
   "execution_count": 1,
   "metadata": {},
   "outputs": [],
   "source": [
    "import pandas as pd"
   ]
  },
  {
   "cell_type": "code",
   "execution_count": 2,
   "metadata": {},
   "outputs": [],
   "source": [
    "sdata=pd.read_csv('prep_theatre.csv')"
   ]
  },
  {
   "cell_type": "code",
   "execution_count": 3,
   "metadata": {},
   "outputs": [],
   "source": [
    "def top_ntheatre(n):\n",
    "    df=pd.read_csv(\"theatre_ranking.csv\").sort_values(by=\"positive\",ascending=False).reset_index()\n",
    "    return df.loc[:n-1]"
   ]
  },
  {
   "cell_type": "code",
   "execution_count": 4,
   "metadata": {},
   "outputs": [],
   "source": [
    "def top_theatre():\n",
    "    df=pd.read_csv(\"theatre_ranking.csv\").sort_values(by=\"positive\",ascending=False).reset_index()\n",
    "    return df"
   ]
  },
  {
   "cell_type": "code",
   "execution_count": 5,
   "metadata": {},
   "outputs": [
    {
     "data": {
      "text/html": [
       "<div>\n",
       "<style scoped>\n",
       "    .dataframe tbody tr th:only-of-type {\n",
       "        vertical-align: middle;\n",
       "    }\n",
       "\n",
       "    .dataframe tbody tr th {\n",
       "        vertical-align: top;\n",
       "    }\n",
       "\n",
       "    .dataframe thead th {\n",
       "        text-align: right;\n",
       "    }\n",
       "</style>\n",
       "<table border=\"1\" class=\"dataframe\">\n",
       "  <thead>\n",
       "    <tr style=\"text-align: right;\">\n",
       "      <th></th>\n",
       "      <th>index</th>\n",
       "      <th>movie</th>\n",
       "      <th>positive</th>\n",
       "    </tr>\n",
       "  </thead>\n",
       "  <tbody>\n",
       "    <tr>\n",
       "      <th>0</th>\n",
       "      <td>18</td>\n",
       "      <td>meenakshi cinemas a c dts</td>\n",
       "      <td>28.534</td>\n",
       "    </tr>\n",
       "    <tr>\n",
       "      <th>1</th>\n",
       "      <td>6</td>\n",
       "      <td>ganesh cinemas 4k dolby atmos</td>\n",
       "      <td>27.954</td>\n",
       "    </tr>\n",
       "  </tbody>\n",
       "</table>\n",
       "</div>"
      ],
      "text/plain": [
       "   index                            movie  positive\n",
       "0     18       meenakshi cinemas a c dts     28.534\n",
       "1      6   ganesh cinemas 4k dolby atmos     27.954"
      ]
     },
     "execution_count": 5,
     "metadata": {},
     "output_type": "execute_result"
    }
   ],
   "source": [
    "top_ntheatre(2)"
   ]
  },
  {
   "cell_type": "code",
   "execution_count": 6,
   "metadata": {},
   "outputs": [],
   "source": [
    "\n",
    "from vaderSentiment.vaderSentiment import SentimentIntensityAnalyzer\n",
    "def senti():\n",
    "    def sentiment_scores(sentence):\n",
    "\n",
    "        sid_obj = SentimentIntensityAnalyzer()\n",
    "        sentiment_dict = sid_obj.polarity_scores(sentence)\n",
    "\n",
    "        positive.append(sentiment_dict['pos']*100)\n",
    "        neutral.append(sentiment_dict['neu']*100)\n",
    "        negative.append(sentiment_dict['neg']*100)\n",
    "\n",
    "        if sentiment_dict['compound'] >= 0.05 :\n",
    "            #print(\"Positive\")\n",
    "            review.append(\"Positive\")\n",
    "            overall.append(\"Positive\")\n",
    "        elif sentiment_dict['compound'] <= - 0.05 :\n",
    "            #print(\"Negative\")\n",
    "            review.append(\"Negative\")\n",
    "            overall.append(\"Negative\")\n",
    "        else :\n",
    "            #print(\"Neutral\")\n",
    "            review.append(\"Neutral\")\n",
    "            overall.append(\"Neutral\")\n",
    "        #print('\\n')\n",
    "\n",
    "    review=[]\n",
    "    positive=[]\n",
    "    negative=[]\n",
    "    neutral=[]\n",
    "    overall=[]\n",
    "\n",
    "    for i in range(len(sdata.reviews)):\n",
    "        sentence=sdata.reviews[i]\n",
    "        sentiment_scores(sentence)\n",
    "    sentimentdata=pd.DataFrame()\n",
    "    sentimentdata['movie']=sdata['movie']\n",
    "    sentimentdata['positive']=positive\n",
    "    sentimentdata['negative']=negative\n",
    "    sentimentdata['neutral']=neutral\n",
    "    sentimentdata['overall']=overall\n",
    "    sentimentsummary=sentimentdata.groupby(['movie']).mean()\n",
    "    sentimentsummary=sentimentsummary[['positive']]\n",
    "    sentimentsummary.sort_values(by = 'positive',ascending=False)\n",
    "    sentimentsummary.to_csv(\"topntheatre.csv\")\n"
   ]
  }
 ],
 "metadata": {
  "kernelspec": {
   "display_name": "Python 3 (ipykernel)",
   "language": "python",
   "name": "python3"
  },
  "language_info": {
   "codemirror_mode": {
    "name": "ipython",
    "version": 3
   },
   "file_extension": ".py",
   "mimetype": "text/x-python",
   "name": "python",
   "nbconvert_exporter": "python",
   "pygments_lexer": "ipython3",
   "version": "3.9.7"
  }
 },
 "nbformat": 4,
 "nbformat_minor": 4
}
