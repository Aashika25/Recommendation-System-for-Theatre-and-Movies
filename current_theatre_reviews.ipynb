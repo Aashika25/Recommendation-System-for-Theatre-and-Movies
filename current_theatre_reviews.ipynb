{
 "cells": [
  {
   "cell_type": "code",
   "execution_count": 9,
   "id": "1231522a",
   "metadata": {},
   "outputs": [],
   "source": [
    "from selenium import webdriver\n",
    "from webdriver_manager.chrome import ChromeDriverManager\n",
    "from selenium.webdriver.support.ui import WebDriverWait\n",
    "from selenium.webdriver.common.action_chains import ActionChains\n",
    "from selenium.webdriver.support import expected_conditions as EC\n",
    "from selenium.common.exceptions import ElementNotVisibleException\n",
    "from selenium.webdriver.common.by import By\n",
    "from selenium.common.exceptions import TimeoutException\n",
    "from bs4 import BeautifulSoup"
   ]
  },
  {
   "cell_type": "code",
   "execution_count": 89,
   "id": "3a1e7617",
   "metadata": {},
   "outputs": [],
   "source": [
    "driver = webdriver.Chrome()\n",
    "driver.maximize_window()\n",
    "driver.implicitly_wait(30)\n",
    "driver.get(\"https://www.google.com/search?q=theatre%20in%20chennai\")\n",
    "wait = WebDriverWait(driver, 10)\n",
    "ActionChains(driver).move_to_element(wait.until(EC.element_to_be_clickable((By.XPATH, \"//a[contains(@href, '/search?tbs')]\")))).perform()\n",
    "wait.until(EC.element_to_be_clickable((By.XPATH, \"//a[contains(@href, '/search?tbs')]\"))).click()\n",
    "l=[]\n",
    "loop=True\n",
    "while True:\n",
    "    for i in driver.find_elements(By.XPATH, \"//div[@class='VkpGBb']\"):\n",
    "        l.append(i.text.split(\"\\n\"))\n",
    "    if len(driver.find_elements(By.XPATH, \"//div[@class='VkpGBb']\"))<10:\n",
    "        break\n",
    "    wait.until(EC.element_to_be_clickable((By.XPATH, \"//a[@id='pnnext']\"))).click()\n",
    "    time.sleep(15)"
   ]
  },
  {
   "cell_type": "code",
   "execution_count": null,
   "id": "98ca449a",
   "metadata": {},
   "outputs": [],
   "source": [
    "import time\n",
    "reviews=[]\n",
    "for i in l:\n",
    "    print(i)\n",
    "    c=0\n",
    "    length=[]\n",
    "    length1=[]\n",
    "    all_reviews=[]\n",
    "    driver = webdriver.Chrome()\n",
    "    driver.maximize_window()\n",
    "    driver.implicitly_wait(30)\n",
    "    driver.get(\"https://www.google.com/search?q= \"+i+\"chennai google review\")\n",
    "    wait = WebDriverWait(driver, 15)\n",
    "    if \"View all Google reviews\" in BeautifulSoup(driver.page_source, \"html.parser\").text:\n",
    "        wait.until(EC.element_to_be_clickable((By.XPATH, \"//a[@data-sort_by='qualityScore']\"))).click()\n",
    "        while not len(all_reviews)==50:\n",
    "            all_reviews = WebDriverWait(driver, 5).until(EC.presence_of_all_elements_located((By.CSS_SELECTOR, 'div.gws-localreviews__google-review')))\n",
    "            driver.execute_script('arguments[0].scrollIntoView(true);', all_reviews[-1])  \n",
    "            time.sleep(15)\n",
    "            if len(all_reviews)==50:\n",
    "                for j in all_reviews:\n",
    "                    reviews.append([i,j])\n",
    "                break\n",
    "            length.append(len(all_reviews))\n",
    "            if not length == length1:\n",
    "                length1=length\n",
    "            else:\n",
    "                 c+=1\n",
    "            if c==30:\n",
    "                break\n",
    "    print(length)"
   ]
  },
  {
   "cell_type": "code",
   "execution_count": 204,
   "id": "6ad5381a",
   "metadata": {},
   "outputs": [],
   "source": [
    "\n",
    "with open(\"l.txt\", \"w\", encoding=\"utf-8\") as f:\n",
    "    f.write(str(l))"
   ]
  },
  {
   "cell_type": "code",
   "execution_count": null,
   "id": "a22a7a18",
   "metadata": {},
   "outputs": [],
   "source": []
  }
 ],
 "metadata": {
  "kernelspec": {
   "display_name": "Python 3 (ipykernel)",
   "language": "python",
   "name": "python3"
  },
  "language_info": {
   "codemirror_mode": {
    "name": "ipython",
    "version": 3
   },
   "file_extension": ".py",
   "mimetype": "text/x-python",
   "name": "python",
   "nbconvert_exporter": "python",
   "pygments_lexer": "ipython3",
   "version": "3.9.7"
  }
 },
 "nbformat": 4,
 "nbformat_minor": 5
}
